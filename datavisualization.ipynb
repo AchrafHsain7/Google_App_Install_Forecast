{
 "cells": [
  {
   "cell_type": "code",
   "execution_count": 1,
   "metadata": {},
   "outputs": [],
   "source": [
    "import pandas as pd \n",
    "import numpy as np \n",
    "import scipy.stats as st \n",
    "import matplotlib.pyplot as plt \n",
    "import gc"
   ]
  },
  {
   "cell_type": "code",
   "execution_count": 2,
   "metadata": {},
   "outputs": [
    {
     "data": {
      "text/html": [
       "<div>\n",
       "<style scoped>\n",
       "    .dataframe tbody tr th:only-of-type {\n",
       "        vertical-align: middle;\n",
       "    }\n",
       "\n",
       "    .dataframe tbody tr th {\n",
       "        vertical-align: top;\n",
       "    }\n",
       "\n",
       "    .dataframe thead th {\n",
       "        text-align: right;\n",
       "    }\n",
       "</style>\n",
       "<table border=\"1\" class=\"dataframe\">\n",
       "  <thead>\n",
       "    <tr style=\"text-align: right;\">\n",
       "      <th></th>\n",
       "      <th>App</th>\n",
       "      <th>Category</th>\n",
       "      <th>Rating</th>\n",
       "      <th>Reviews</th>\n",
       "      <th>Size</th>\n",
       "      <th>Installs</th>\n",
       "      <th>Type</th>\n",
       "      <th>Price</th>\n",
       "      <th>Content Rating</th>\n",
       "      <th>Genres</th>\n",
       "      <th>Last Updated</th>\n",
       "      <th>Current Ver</th>\n",
       "      <th>Android Ver</th>\n",
       "    </tr>\n",
       "  </thead>\n",
       "  <tbody>\n",
       "    <tr>\n",
       "      <th>0</th>\n",
       "      <td>Photo Editor &amp; Candy Camera &amp; Grid &amp; ScrapBook</td>\n",
       "      <td>ART_AND_DESIGN</td>\n",
       "      <td>4.1</td>\n",
       "      <td>159</td>\n",
       "      <td>19M</td>\n",
       "      <td>10,000+</td>\n",
       "      <td>Free</td>\n",
       "      <td>0</td>\n",
       "      <td>Everyone</td>\n",
       "      <td>Art &amp; Design</td>\n",
       "      <td>7-Jan-18</td>\n",
       "      <td>1.0.0</td>\n",
       "      <td>4.0.3 and up</td>\n",
       "    </tr>\n",
       "    <tr>\n",
       "      <th>1</th>\n",
       "      <td>Coloring book moana</td>\n",
       "      <td>ART_AND_DESIGN</td>\n",
       "      <td>3.9</td>\n",
       "      <td>967</td>\n",
       "      <td>14M</td>\n",
       "      <td>500,000+</td>\n",
       "      <td>Free</td>\n",
       "      <td>0</td>\n",
       "      <td>Everyone</td>\n",
       "      <td>Art &amp; Design;Pretend Play</td>\n",
       "      <td>15-Jan-18</td>\n",
       "      <td>2.0.0</td>\n",
       "      <td>4.0.3 and up</td>\n",
       "    </tr>\n",
       "    <tr>\n",
       "      <th>2</th>\n",
       "      <td>U Launcher Lite – FREE Live Cool Themes, Hide ...</td>\n",
       "      <td>ART_AND_DESIGN</td>\n",
       "      <td>4.7</td>\n",
       "      <td>87510</td>\n",
       "      <td>8.7M</td>\n",
       "      <td>5,000,000+</td>\n",
       "      <td>Free</td>\n",
       "      <td>0</td>\n",
       "      <td>Everyone</td>\n",
       "      <td>Art &amp; Design</td>\n",
       "      <td>1-Aug-18</td>\n",
       "      <td>1.2.4</td>\n",
       "      <td>4.0.3 and up</td>\n",
       "    </tr>\n",
       "    <tr>\n",
       "      <th>3</th>\n",
       "      <td>Sketch - Draw &amp; Paint</td>\n",
       "      <td>ART_AND_DESIGN</td>\n",
       "      <td>4.5</td>\n",
       "      <td>215644</td>\n",
       "      <td>25M</td>\n",
       "      <td>50,000,000+</td>\n",
       "      <td>Free</td>\n",
       "      <td>0</td>\n",
       "      <td>Teen</td>\n",
       "      <td>Art &amp; Design</td>\n",
       "      <td>8-Jun-18</td>\n",
       "      <td>Varies with device</td>\n",
       "      <td>4.2 and up</td>\n",
       "    </tr>\n",
       "    <tr>\n",
       "      <th>4</th>\n",
       "      <td>Pixel Draw - Number Art Coloring Book</td>\n",
       "      <td>ART_AND_DESIGN</td>\n",
       "      <td>4.3</td>\n",
       "      <td>967</td>\n",
       "      <td>2.8M</td>\n",
       "      <td>100,000+</td>\n",
       "      <td>Free</td>\n",
       "      <td>0</td>\n",
       "      <td>Everyone</td>\n",
       "      <td>Art &amp; Design;Creativity</td>\n",
       "      <td>20-Jun-18</td>\n",
       "      <td>1.1</td>\n",
       "      <td>4.4 and up</td>\n",
       "    </tr>\n",
       "  </tbody>\n",
       "</table>\n",
       "</div>"
      ],
      "text/plain": [
       "                                                 App        Category  Rating  \\\n",
       "0     Photo Editor & Candy Camera & Grid & ScrapBook  ART_AND_DESIGN     4.1   \n",
       "1                                Coloring book moana  ART_AND_DESIGN     3.9   \n",
       "2  U Launcher Lite – FREE Live Cool Themes, Hide ...  ART_AND_DESIGN     4.7   \n",
       "3                              Sketch - Draw & Paint  ART_AND_DESIGN     4.5   \n",
       "4              Pixel Draw - Number Art Coloring Book  ART_AND_DESIGN     4.3   \n",
       "\n",
       "  Reviews  Size     Installs  Type Price Content Rating  \\\n",
       "0     159   19M      10,000+  Free     0       Everyone   \n",
       "1     967   14M     500,000+  Free     0       Everyone   \n",
       "2   87510  8.7M   5,000,000+  Free     0       Everyone   \n",
       "3  215644   25M  50,000,000+  Free     0           Teen   \n",
       "4     967  2.8M     100,000+  Free     0       Everyone   \n",
       "\n",
       "                      Genres Last Updated         Current Ver   Android Ver  \n",
       "0               Art & Design     7-Jan-18               1.0.0  4.0.3 and up  \n",
       "1  Art & Design;Pretend Play    15-Jan-18               2.0.0  4.0.3 and up  \n",
       "2               Art & Design     1-Aug-18               1.2.4  4.0.3 and up  \n",
       "3               Art & Design     8-Jun-18  Varies with device    4.2 and up  \n",
       "4    Art & Design;Creativity    20-Jun-18                 1.1    4.4 and up  "
      ]
     },
     "execution_count": 2,
     "metadata": {},
     "output_type": "execute_result"
    }
   ],
   "source": [
    "dataset = pd.read_csv(\"data\\googleplaystore.csv\")\n",
    "dataset.head()"
   ]
  },
  {
   "cell_type": "code",
   "execution_count": 3,
   "metadata": {},
   "outputs": [
    {
     "data": {
      "text/plain": [
       "App               10841\n",
       "Category          10841\n",
       "Rating             9367\n",
       "Reviews           10841\n",
       "Size              10841\n",
       "Installs          10841\n",
       "Type              10840\n",
       "Price             10841\n",
       "Content Rating    10840\n",
       "Genres            10841\n",
       "Last Updated      10841\n",
       "Current Ver       10833\n",
       "Android Ver       10838\n",
       "dtype: int64"
      ]
     },
     "execution_count": 3,
     "metadata": {},
     "output_type": "execute_result"
    }
   ],
   "source": [
    "dataset.count()"
   ]
  },
  {
   "cell_type": "markdown",
   "metadata": {},
   "source": [
    "# Graphical Data Exploration"
   ]
  },
  {
   "cell_type": "code",
   "execution_count": 4,
   "metadata": {},
   "outputs": [
    {
     "data": {
      "image/png": "[encoded data removed]",
      "text/plain": [
       "<Figure size 1400x900 with 1 Axes>"
      ]
     },
     "metadata": {},
     "output_type": "display_data"
    },
    {
     "name": "stdout",
     "output_type": "stream",
     "text": [
      "Frequency Mean:  318.8529411764706\n",
      "Frequency Median:  246.0\n",
      "Frequency Mode:  60\n"
     ]
    }
   ],
   "source": [
    "#Category Feature Exploration\n",
    "\n",
    "fig, axs = plt.subplots(figsize=(14, 9))\n",
    "axs.barh(dataset['Category'].unique(),  dataset['Category'].value_counts(sort=False), height=0.7, color='#0E4C92')\n",
    "plt.show()\n",
    "#dataset['Category'].value_counts()\n",
    "print(\"Frequency Mean: \", dataset['Category'].value_counts().mean())\n",
    "print(\"Frequency Median: \", dataset['Category'].value_counts().median())\n",
    "print(\"Frequency Mode: \", dataset['Category'].value_counts().mode()[0])"
   ]
  },
  {
   "cell_type": "markdown",
   "metadata": {},
   "source": [
    "- We can clearly see that the **Family** Category is the most frequent followed by **Games** and **Tools**\n",
    "- There is a typo category which is **1.9** which was probably meant to be used as rating\n",
    "- The Median Frequency is **246**, The Mean Frequency is **318.85**, The most common frequency is **60**\n",
    "- Only **90%** of the dataset has Ratings"
   ]
  },
  {
   "cell_type": "code",
   "execution_count": 5,
   "metadata": {},
   "outputs": [
    {
     "data": {
      "image/png": "[encoded data removed]",
      "text/plain": [
       "<Figure size 640x480 with 1 Axes>"
      ]
     },
     "metadata": {},
     "output_type": "display_data"
    },
    {
     "name": "stdout",
     "output_type": "stream",
     "text": [
      "Ratings Mean:  4.191757420456972\n",
      "Ratings Median:  4.3\n",
      "Ratings Mode:  4.4\n",
      "Ratings Std:  0.5152188586177886\n"
     ]
    }
   ],
   "source": [
    "#Exploring the Rating feature\n",
    "\n",
    "ratings = dataset['Rating']\n",
    "\n",
    "#dropping all the Nan Values  \n",
    "ratings.dropna(inplace=True)\n",
    "\n",
    "#dropping the Typo 19.0 in rating \n",
    "ratings.drop(index=ratings.loc[ratings == 19.0].index[0], inplace=True)\n",
    "\n",
    "#print(ratings.value_counts())\n",
    "plt.hist(ratings, bins=20, color='#0E4C92', rwidth=0.7, align='mid')\n",
    "plt.show()\n",
    "\n",
    "print(\"Ratings Mean: \", ratings.mean())\n",
    "print(\"Ratings Median: \", ratings.median())\n",
    "print(\"Ratings Mode: \", ratings.mode()[0])\n",
    "print(\"Ratings Std: \", ratings.std())"
   ]
  },
  {
   "cell_type": "markdown",
   "metadata": {},
   "source": [
    "- The Rating Distribution is approximately a **Negatively Skewed Distribution**\n",
    "- Rating **Mean: 4.19** and **Std: 0.515**\n",
    "- **Mode: 4.4** and **Median: 4.3** "
   ]
  },
  {
   "cell_type": "code",
   "execution_count": 6,
   "metadata": {},
   "outputs": [
    {
     "data": {
      "image/png": "[encoded data removed]",
      "text/plain": [
       "<Figure size 640x480 with 1 Axes>"
      ]
     },
     "metadata": {},
     "output_type": "display_data"
    },
    {
     "name": "stdout",
     "output_type": "stream",
     "text": [
      "Number of No reviews:  596\n",
      "Reviews Number Median:  2094.0\n",
      "Reviews Number Mode:  0\n",
      "Reviews Number Mean:  444388.6535374965\n",
      "Reviews Number Max:  78158306\n"
     ]
    }
   ],
   "source": [
    "reviews = dataset['Reviews'].copy()\n",
    "reviews.loc[reviews == '3.0M'] = '3000000'\n",
    "reviews = reviews.astype(np.int64)\n",
    "\n",
    "#Changing the \n",
    "bins = np.logspace(0, 9, 50)\n",
    "\n",
    "plt.hist(reviews, bins=bins, color=\"#0E4C92\", rwidth=0.8, align='mid')\n",
    "\n",
    "plt.gca().set_xscale(\"log\")\n",
    "plt.xticks([1, 10, 100, 1000, 10000, 100000, 1000000, 10000000, 100000000], ['1', '10', '100', '1k', '10k', '100k', '1M', '10M', '100M'])\n",
    "plt.xlabel(\"Number Of reviews\")\n",
    "plt.ylabel(\"Frequency\")\n",
    "plt.show()\n",
    "\n",
    "print(\"Number of No reviews: \", reviews.loc[reviews == 0].count())\n",
    "print(\"Reviews Number Median: \", reviews.median())\n",
    "print(\"Reviews Number Mode: \", reviews.mode()[0])\n",
    "print(\"Reviews Number Mean: \", reviews.mean())\n",
    "print(\"Reviews Number Max: \", reviews.max())\n"
   ]
  },
  {
   "cell_type": "markdown",
   "metadata": {},
   "source": [
    "- All Data points have a value for reviews but 596 apps have 0 reviews\n",
    "- The distribution is very scattered, the number of reviews range from **[0, 78 Million]**\n",
    "- The **Median is 2094**, The **Mode is 0**\n",
    "- The **Max number of reviews for an app is 78158306** for *Facebook* while the **Mean is 444K**"
   ]
  },
  {
   "cell_type": "code",
   "execution_count": 7,
   "metadata": {},
   "outputs": [
    {
     "data": {
      "text/plain": [
       "1000.0"
      ]
     },
     "execution_count": 7,
     "metadata": {},
     "output_type": "execute_result"
    }
   ],
   "source": [
    "#function to transform the size into a numerical integer \n",
    "\n",
    "def sizes_to_int(size):\n",
    "    if 'M' in size:\n",
    "        return np.float32(size.split('M')[0])* (10**6)\n",
    "    elif 'k' in size:\n",
    "        return np.float32(size.split('k')[0])* (10**3)\n",
    "    elif '+' in size:\n",
    "        dig1 = size.split(',')[0]\n",
    "        rest = size.split(',')[1]\n",
    "        dig2 = rest.split('+')[0]\n",
    "        return np.float32(dig1+dig2)\n",
    "    else:\n",
    "        return -1\n",
    "\n",
    "sizes_to_int('1,000+')"
   ]
  },
  {
   "cell_type": "code",
   "execution_count": 8,
   "metadata": {},
   "outputs": [
    {
     "name": "stdout",
     "output_type": "stream",
     "text": [
      "App Size Mean:  21514176.770500876\n",
      "App Size Median:  18000000.0\n",
      "Largest APP:  100000000\n"
     ]
    },
    {
     "data": {
      "image/png": "[encoded data removed]",
      "text/plain": [
       "<Figure size 640x480 with 1 Axes>"
      ]
     },
     "metadata": {},
     "output_type": "display_data"
    }
   ],
   "source": [
    "#Checking the Size of the apps\n",
    "sizes = dataset['Size'].copy()\n",
    "\n",
    "#transforming size into numerical data\n",
    "sizes = sizes.apply(sizes_to_int).astype(np.int64)\n",
    "\n",
    "#replacing varying size apps with the size mean\n",
    "size_mean = sizes.loc[sizes != -1].mean()\n",
    "sizes.loc[sizes == -1] = np.int32(size_mean)\n",
    "\n",
    "print(\"App Size Mean: \", sizes.mean())\n",
    "print(\"App Size Median: \", sizes.median())\n",
    "print(\"Largest APP: \", sizes.max())\n",
    "\n",
    "\n",
    "#graphicall representation of the data\n",
    "bins = np.logspace(3, 9, 50)\n",
    "\n",
    "plt.gca().set_xscale(\"log\")\n",
    "plt.xticks([1000, 10**4, 10**5, 10**6, 10**7, 10**8, 10**9], ['1Kb', '10Kb', '100Kb', '1Mb', '10Mb', '100Mb', '1Gb'])\n",
    "\n",
    "plt.hist(sizes, bins=bins, color=\"#0E4C92\", rwidth=0.8, align='mid')\n",
    "plt.show()"
   ]
  },
  {
   "cell_type": "markdown",
   "metadata": {},
   "source": [
    "- The Median Size of an APP is **21.5Mb**, the median size is **18Mb**\n",
    "- Data Has been transformed into numerical values for future inferencing \n",
    "- The maximum treshold is 100Mb+, further accuracy is not provided"
   ]
  },
  {
   "cell_type": "code",
   "execution_count": 9,
   "metadata": {},
   "outputs": [
    {
     "data": {
      "text/plain": [
       "1000000000"
      ]
     },
     "execution_count": 9,
     "metadata": {},
     "output_type": "execute_result"
    }
   ],
   "source": [
    "def installs_to_int(install):\n",
    "    if install == 'Free':\n",
    "        return 0\n",
    "    install = install.replace(',', '')\n",
    "    install = install.replace('+', '')\n",
    "    return np.int64(install)\n",
    "\n",
    "installs_to_int(\"1,000,000,000+\")"
   ]
  },
  {
   "cell_type": "code",
   "execution_count": 44,
   "metadata": {},
   "outputs": [
    {
     "data": {
      "image/png": "[encoded data removed]",
      "text/plain": [
       "<Figure size 640x480 with 1 Axes>"
      ]
     },
     "metadata": {},
     "output_type": "display_data"
    },
    {
     "name": "stdout",
     "output_type": "stream",
     "text": [
      "Downloads Mean:  15462912.414629648\n",
      "Downloads Median:  100000.0\n",
      "Downloads Mode:  1000000\n",
      "Unique Values:  20\n"
     ]
    }
   ],
   "source": [
    "#Discovering the number of installs \n",
    "\n",
    "installs = dataset['Installs'].copy()\n",
    "#cleaning wrong data\n",
    "installs.loc[installs == 'Free'] = '0'\n",
    "\n",
    "installs = installs.apply(installs_to_int)\n",
    "\n",
    "bins = np.logspace(0, 10, 25)\n",
    "plt.gca().set_xscale(\"log\")\n",
    "\n",
    "plt.hist(installs, bins=bins, rwidth=0.7, color=\"#0E4C92\")\n",
    "plt.xticks([1, 10, 100, 1000, 10**4, 10**5, 10**6, 10**7, 10**8, 10**9, 10**10], ['1', '10', '100', '1K', '10K', '100K', '1M', '10M', '100M', '1B', '10B'])\n",
    "plt.show()\n",
    "\n",
    "print(\"Downloads Mean: \", installs.mean())\n",
    "print(\"Downloads Median: \", installs.median())\n",
    "print(\"Downloads Mode: \", installs.mode()[0])\n",
    "print(\"Unique Values: \", len(installs.unique()))"
   ]
  },
  {
   "cell_type": "markdown",
   "metadata": {},
   "source": [
    "- The Median for downloads is **15.4 Million** Downloads\n",
    "- The most common number of downloads is **1 Million**\n",
    "- The data were transformed into **20** unique categorical numerical value for future predictions "
   ]
  },
  {
   "cell_type": "code",
   "execution_count": 11,
   "metadata": {},
   "outputs": [
    {
     "data": {
      "text/plain": [
       "19439"
      ]
     },
     "execution_count": 11,
     "metadata": {},
     "output_type": "execute_result"
    }
   ],
   "source": [
    "#freeing memory\n",
    "# del installs\n",
    "del ratings\n",
    "del reviews\n",
    "del sizes\n",
    "gc.collect()"
   ]
  },
  {
   "cell_type": "code",
   "execution_count": 12,
   "metadata": {},
   "outputs": [],
   "source": [
    "def price_tonumerical(price):\n",
    "    if '$' in price:\n",
    "        return np.float32(price.replace('$', ''))\n",
    "    else:\n",
    "        return 0.0"
   ]
  },
  {
   "cell_type": "code",
   "execution_count": 13,
   "metadata": {},
   "outputs": [
    {
     "name": "stdout",
     "output_type": "stream",
     "text": [
      "0          10040\n",
      "$0.99        148\n",
      "$2.99        129\n",
      "$1.99         73\n",
      "$4.99         72\n",
      "           ...  \n",
      "$1.75          1\n",
      "$14.00         1\n",
      "$4.85          1\n",
      "$46.99         1\n",
      "$1.04          1\n",
      "Name: Price, Length: 93, dtype: int64\n"
     ]
    },
    {
     "data": {
      "image/png": "[encoded data removed]",
      "text/plain": [
       "<Figure size 640x480 with 1 Axes>"
      ]
     },
     "metadata": {},
     "output_type": "display_data"
    },
    {
     "name": "stdout",
     "output_type": "stream",
     "text": [
      "Median:  0.0\n",
      "Mean:  1.0272732959133641\n",
      "Free APPs:  10041\n",
      "Most Expensive APP:  400.0\n"
     ]
    }
   ],
   "source": [
    "prices = dataset['Price'].copy()\n",
    "print(prices.value_counts())\n",
    "prices = prices.apply(price_tonumerical)\n",
    "\n",
    "plt.hist(prices, bins=50, color=\"#0E4C92\", rwidth=0.9, align='mid')\n",
    "plt.ylim(0, 50)\n",
    "plt.show()\n",
    "\n",
    "print(\"Median: \", prices.median())\n",
    "print(\"Mean: \", prices.mean())\n",
    "print(\"Free APPs: \", prices.loc[prices == 0].count())\n",
    "print(\"Most Expensive APP: \", prices.max())"
   ]
  },
  {
   "cell_type": "markdown",
   "metadata": {},
   "source": [
    "- Most Apps are Free, **10041** to be precise\n",
    "- The most expensive app cost **400$** (does not exist currently in the play store)\n",
    "- The **Mean is 1.027$**"
   ]
  },
  {
   "cell_type": "code",
   "execution_count": 14,
   "metadata": {},
   "outputs": [],
   "source": [
    "types = dataset['Type'].copy()"
   ]
  },
  {
   "cell_type": "markdown",
   "metadata": {},
   "source": [
    "- 800 Apps are paid in this dataset, while 10040 are Free"
   ]
  },
  {
   "cell_type": "code",
   "execution_count": 15,
   "metadata": {},
   "outputs": [
    {
     "data": {
      "text/plain": [
       "Everyone           8714\n",
       "Teen               1208\n",
       "Mature 17+          499\n",
       "Everyone 10+        414\n",
       "Adults only 18+       3\n",
       "Unrated               2\n",
       "Name: Content Rating, dtype: int64"
      ]
     },
     "execution_count": 15,
     "metadata": {},
     "output_type": "execute_result"
    }
   ],
   "source": [
    "content = dataset['Content Rating'].copy()\n",
    "content.value_counts()"
   ]
  },
  {
   "cell_type": "markdown",
   "metadata": {},
   "source": [
    "- There are 6 categories of rating"
   ]
  },
  {
   "cell_type": "markdown",
   "metadata": {},
   "source": [
    "### The features that are left will not be considered since for now their impact is not estimated to be very high on the desired Variable we want to predict"
   ]
  },
  {
   "cell_type": "code",
   "execution_count": 16,
   "metadata": {},
   "outputs": [
    {
     "data": {
      "text/plain": [
       "6398"
      ]
     },
     "execution_count": 16,
     "metadata": {},
     "output_type": "execute_result"
    }
   ],
   "source": [
    "del bins, content, prices, types\n",
    "gc.collect()"
   ]
  },
  {
   "cell_type": "markdown",
   "metadata": {},
   "source": [
    "# Sampling the dataset"
   ]
  },
  {
   "cell_type": "markdown",
   "metadata": {},
   "source": [
    "### Random Sampling "
   ]
  },
  {
   "cell_type": "code",
   "execution_count": 17,
   "metadata": {},
   "outputs": [
    {
     "data": {
      "text/html": [
       "<div>\n",
       "<style scoped>\n",
       "    .dataframe tbody tr th:only-of-type {\n",
       "        vertical-align: middle;\n",
       "    }\n",
       "\n",
       "    .dataframe tbody tr th {\n",
       "        vertical-align: top;\n",
       "    }\n",
       "\n",
       "    .dataframe thead th {\n",
       "        text-align: right;\n",
       "    }\n",
       "</style>\n",
       "<table border=\"1\" class=\"dataframe\">\n",
       "  <thead>\n",
       "    <tr style=\"text-align: right;\">\n",
       "      <th></th>\n",
       "      <th>App</th>\n",
       "      <th>Category</th>\n",
       "      <th>Rating</th>\n",
       "      <th>Reviews</th>\n",
       "      <th>Size</th>\n",
       "      <th>Installs</th>\n",
       "      <th>Type</th>\n",
       "      <th>Price</th>\n",
       "      <th>Content Rating</th>\n",
       "      <th>Genres</th>\n",
       "      <th>Last Updated</th>\n",
       "      <th>Current Ver</th>\n",
       "      <th>Android Ver</th>\n",
       "    </tr>\n",
       "  </thead>\n",
       "  <tbody>\n",
       "    <tr>\n",
       "      <th>3457</th>\n",
       "      <td>Microsoft Outlook</td>\n",
       "      <td>PRODUCTIVITY</td>\n",
       "      <td>4.3</td>\n",
       "      <td>3252896</td>\n",
       "      <td>50M</td>\n",
       "      <td>100,000,000+</td>\n",
       "      <td>Free</td>\n",
       "      <td>0</td>\n",
       "      <td>Everyone</td>\n",
       "      <td>Productivity</td>\n",
       "      <td>2-Aug-18</td>\n",
       "      <td>2.2.194</td>\n",
       "      <td>4.4 and up</td>\n",
       "    </tr>\n",
       "    <tr>\n",
       "      <th>3069</th>\n",
       "      <td>FotMob - Live Soccer Scores</td>\n",
       "      <td>SPORTS</td>\n",
       "      <td>4.7</td>\n",
       "      <td>410395</td>\n",
       "      <td>Varies with device</td>\n",
       "      <td>10,000,000+</td>\n",
       "      <td>Free</td>\n",
       "      <td>0</td>\n",
       "      <td>Everyone</td>\n",
       "      <td>Sports</td>\n",
       "      <td>31-Jul-18</td>\n",
       "      <td>Varies with device</td>\n",
       "      <td>Varies with device</td>\n",
       "    </tr>\n",
       "    <tr>\n",
       "      <th>9657</th>\n",
       "      <td>EO Guide</td>\n",
       "      <td>HEALTH_AND_FITNESS</td>\n",
       "      <td>NaN</td>\n",
       "      <td>15</td>\n",
       "      <td>24M</td>\n",
       "      <td>1,000+</td>\n",
       "      <td>Paid</td>\n",
       "      <td>$4.99</td>\n",
       "      <td>Everyone</td>\n",
       "      <td>Health &amp; Fitness</td>\n",
       "      <td>23-Jul-18</td>\n",
       "      <td>1.0.4</td>\n",
       "      <td>4.1 and up</td>\n",
       "    </tr>\n",
       "    <tr>\n",
       "      <th>10714</th>\n",
       "      <td>FunForMobile Ringtones &amp; Chat</td>\n",
       "      <td>SOCIAL</td>\n",
       "      <td>4.4</td>\n",
       "      <td>68358</td>\n",
       "      <td>7.2M</td>\n",
       "      <td>5,000,000+</td>\n",
       "      <td>Free</td>\n",
       "      <td>0</td>\n",
       "      <td>Mature 17+</td>\n",
       "      <td>Social</td>\n",
       "      <td>7-May-16</td>\n",
       "      <td>3.22</td>\n",
       "      <td>4.1 and up</td>\n",
       "    </tr>\n",
       "    <tr>\n",
       "      <th>3963</th>\n",
       "      <td>Oral-B App</td>\n",
       "      <td>HEALTH_AND_FITNESS</td>\n",
       "      <td>3.3</td>\n",
       "      <td>14210</td>\n",
       "      <td>96M</td>\n",
       "      <td>1,000,000+</td>\n",
       "      <td>Free</td>\n",
       "      <td>0</td>\n",
       "      <td>Everyone</td>\n",
       "      <td>Health &amp; Fitness</td>\n",
       "      <td>19-Jul-18</td>\n",
       "      <td>6.0.1</td>\n",
       "      <td>5.0 and up</td>\n",
       "    </tr>\n",
       "  </tbody>\n",
       "</table>\n",
       "</div>"
      ],
      "text/plain": [
       "                                 App            Category  Rating  Reviews  \\\n",
       "3457               Microsoft Outlook        PRODUCTIVITY     4.3  3252896   \n",
       "3069     FotMob - Live Soccer Scores              SPORTS     4.7   410395   \n",
       "9657                        EO Guide  HEALTH_AND_FITNESS     NaN       15   \n",
       "10714  FunForMobile Ringtones & Chat              SOCIAL     4.4    68358   \n",
       "3963                      Oral-B App  HEALTH_AND_FITNESS     3.3    14210   \n",
       "\n",
       "                     Size      Installs  Type   Price Content Rating  \\\n",
       "3457                  50M  100,000,000+  Free       0       Everyone   \n",
       "3069   Varies with device   10,000,000+  Free       0       Everyone   \n",
       "9657                  24M        1,000+  Paid  $4.99        Everyone   \n",
       "10714                7.2M    5,000,000+  Free       0     Mature 17+   \n",
       "3963                  96M    1,000,000+  Free       0       Everyone   \n",
       "\n",
       "                 Genres Last Updated         Current Ver         Android Ver  \n",
       "3457       Productivity     2-Aug-18             2.2.194          4.4 and up  \n",
       "3069             Sports    31-Jul-18  Varies with device  Varies with device  \n",
       "9657   Health & Fitness    23-Jul-18               1.0.4          4.1 and up  \n",
       "10714            Social     7-May-16                3.22          4.1 and up  \n",
       "3963   Health & Fitness    19-Jul-18               6.0.1          5.0 and up  "
      ]
     },
     "execution_count": 17,
     "metadata": {},
     "output_type": "execute_result"
    }
   ],
   "source": [
    "random_sample = dataset.sample(2000, random_state=42)\n",
    "random_sample.head()"
   ]
  },
  {
   "cell_type": "code",
   "execution_count": 18,
   "metadata": {},
   "outputs": [
    {
     "data": {
      "text/html": [
       "<div>\n",
       "<style scoped>\n",
       "    .dataframe tbody tr th:only-of-type {\n",
       "        vertical-align: middle;\n",
       "    }\n",
       "\n",
       "    .dataframe tbody tr th {\n",
       "        vertical-align: top;\n",
       "    }\n",
       "\n",
       "    .dataframe thead th {\n",
       "        text-align: right;\n",
       "    }\n",
       "</style>\n",
       "<table border=\"1\" class=\"dataframe\">\n",
       "  <thead>\n",
       "    <tr style=\"text-align: right;\">\n",
       "      <th></th>\n",
       "      <th>App</th>\n",
       "      <th>Category</th>\n",
       "      <th>Rating</th>\n",
       "      <th>Reviews</th>\n",
       "      <th>Size</th>\n",
       "      <th>Installs</th>\n",
       "      <th>Type</th>\n",
       "      <th>Price</th>\n",
       "      <th>Content Rating</th>\n",
       "      <th>Genres</th>\n",
       "      <th>Last Updated</th>\n",
       "      <th>Current Ver</th>\n",
       "      <th>Android Ver</th>\n",
       "    </tr>\n",
       "  </thead>\n",
       "  <tbody>\n",
       "    <tr>\n",
       "      <th>4660</th>\n",
       "      <td>U-Report</td>\n",
       "      <td>SOCIAL</td>\n",
       "      <td>4.3</td>\n",
       "      <td>241</td>\n",
       "      <td>7.5M</td>\n",
       "      <td>10000</td>\n",
       "      <td>Free</td>\n",
       "      <td>0</td>\n",
       "      <td>Teen</td>\n",
       "      <td>Social</td>\n",
       "      <td>10-Apr-18</td>\n",
       "      <td>2.8.4</td>\n",
       "      <td>4.0.3 and up</td>\n",
       "    </tr>\n",
       "    <tr>\n",
       "      <th>10619</th>\n",
       "      <td>Hidden Object Florida Vacation Adventure Fun Game</td>\n",
       "      <td>FAMILY</td>\n",
       "      <td>3.7</td>\n",
       "      <td>126</td>\n",
       "      <td>45M</td>\n",
       "      <td>10000</td>\n",
       "      <td>Free</td>\n",
       "      <td>0</td>\n",
       "      <td>Everyone</td>\n",
       "      <td>Casual</td>\n",
       "      <td>18-Jun-18</td>\n",
       "      <td>1.4</td>\n",
       "      <td>4.0.3 and up</td>\n",
       "    </tr>\n",
       "    <tr>\n",
       "      <th>9066</th>\n",
       "      <td>Multiple Sclerosis Dx &amp; Mgmt.</td>\n",
       "      <td>MEDICAL</td>\n",
       "      <td>4.5</td>\n",
       "      <td>131</td>\n",
       "      <td>60M</td>\n",
       "      <td>10000</td>\n",
       "      <td>Free</td>\n",
       "      <td>0</td>\n",
       "      <td>Everyone</td>\n",
       "      <td>Medical</td>\n",
       "      <td>25-Sep-17</td>\n",
       "      <td>5</td>\n",
       "      <td>4.4 and up</td>\n",
       "    </tr>\n",
       "    <tr>\n",
       "      <th>10466</th>\n",
       "      <td>Wi-Fi Networks</td>\n",
       "      <td>PRODUCTIVITY</td>\n",
       "      <td>4.2</td>\n",
       "      <td>115</td>\n",
       "      <td>1.4M</td>\n",
       "      <td>10000</td>\n",
       "      <td>Free</td>\n",
       "      <td>0</td>\n",
       "      <td>Everyone</td>\n",
       "      <td>Productivity</td>\n",
       "      <td>5-Oct-15</td>\n",
       "      <td>1.4</td>\n",
       "      <td>4.1 and up</td>\n",
       "    </tr>\n",
       "    <tr>\n",
       "      <th>1630</th>\n",
       "      <td>Chictopia</td>\n",
       "      <td>LIFESTYLE</td>\n",
       "      <td>4.1</td>\n",
       "      <td>360</td>\n",
       "      <td>4.6M</td>\n",
       "      <td>10000</td>\n",
       "      <td>Free</td>\n",
       "      <td>0</td>\n",
       "      <td>Everyone</td>\n",
       "      <td>Lifestyle</td>\n",
       "      <td>30-Apr-14</td>\n",
       "      <td>1.6.2</td>\n",
       "      <td>2.2 and up</td>\n",
       "    </tr>\n",
       "  </tbody>\n",
       "</table>\n",
       "</div>"
      ],
      "text/plain": [
       "                                                     App      Category  \\\n",
       "4660                                            U-Report        SOCIAL   \n",
       "10619  Hidden Object Florida Vacation Adventure Fun Game        FAMILY   \n",
       "9066                       Multiple Sclerosis Dx & Mgmt.       MEDICAL   \n",
       "10466                                     Wi-Fi Networks  PRODUCTIVITY   \n",
       "1630                                           Chictopia     LIFESTYLE   \n",
       "\n",
       "       Rating Reviews  Size  Installs  Type Price Content Rating  \\\n",
       "4660      4.3     241  7.5M     10000  Free     0           Teen   \n",
       "10619     3.7     126   45M     10000  Free     0       Everyone   \n",
       "9066      4.5     131   60M     10000  Free     0       Everyone   \n",
       "10466     4.2     115  1.4M     10000  Free     0       Everyone   \n",
       "1630      4.1     360  4.6M     10000  Free     0       Everyone   \n",
       "\n",
       "             Genres Last Updated Current Ver   Android Ver  \n",
       "4660         Social    10-Apr-18       2.8.4  4.0.3 and up  \n",
       "10619        Casual    18-Jun-18         1.4  4.0.3 and up  \n",
       "9066        Medical    25-Sep-17           5    4.4 and up  \n",
       "10466  Productivity     5-Oct-15         1.4    4.1 and up  \n",
       "1630      Lifestyle    30-Apr-14       1.6.2    2.2 and up  "
      ]
     },
     "execution_count": 18,
     "metadata": {},
     "output_type": "execute_result"
    }
   ],
   "source": [
    "#stratified sampling \n",
    "installs_proportions = installs.value_counts(sort=False) / installs.value_counts(sort=False).sum()\n",
    "dataset_tmp = dataset.copy()\n",
    "dataset_tmp['Installs'] = dataset_tmp['Installs'].apply(installs_to_int)\n",
    "\n",
    "sample_size = 2000\n",
    "strat_sample = pd.DataFrame()\n",
    "\n",
    "for prop, install in zip(installs_proportions, installs.unique()):\n",
    "    strat_sub = dataset_tmp.loc[dataset_tmp['Installs'] == install].sample(int(prop * sample_size), random_state=42)\n",
    "    strat_sample = pd.concat([strat_sample, strat_sub])\n",
    "\n",
    "strat_sample.head()"
   ]
  },
  {
   "cell_type": "code",
   "execution_count": 19,
   "metadata": {},
   "outputs": [
    {
     "data": {
      "text/plain": [
       "1000000       291\n",
       "10000000      230\n",
       "100000        215\n",
       "10000         194\n",
       "1000          167\n",
       "5000000       138\n",
       "100           132\n",
       "500000         99\n",
       "50000          88\n",
       "5000           87\n",
       "100000000      75\n",
       "10             71\n",
       "500            60\n",
       "50000000       53\n",
       "50             37\n",
       "5              15\n",
       "500000000      13\n",
       "1              12\n",
       "1000000000     10\n",
       "0               2\n",
       "Name: Installs, dtype: int64"
      ]
     },
     "execution_count": 19,
     "metadata": {},
     "output_type": "execute_result"
    }
   ],
   "source": [
    "strat_sample['Installs'].value_counts()"
   ]
  },
  {
   "cell_type": "code",
   "execution_count": 20,
   "metadata": {},
   "outputs": [],
   "source": [
    "#cluster sampling \n",
    "# dataset_tmp = dataset.loc[dataset['Category'] == '1.9']\n",
    "# cluster_sample = dataset_tmp.groupby('Category')\n",
    "# cluster_sample = cluster_sample[cluster_sample['Category'] == '1.9'].pop()\n",
    "# cluster_sample = cluster_sample.sample(int(2000/33))\n",
    "# cluster_sample.head()"
   ]
  },
  {
   "cell_type": "markdown",
   "metadata": {},
   "source": [
    "# C4: Mean Comparaison"
   ]
  },
  {
   "cell_type": "code",
   "execution_count": 21,
   "metadata": {},
   "outputs": [
    {
     "name": "stdout",
     "output_type": "stream",
     "text": [
      "             True Mean: 15462912.41\n",
      "    Random Sample Mean: 16184663.99\n"
     ]
    }
   ],
   "source": [
    "true_mean = installs.mean()\n",
    "true_std = installs.std()\n",
    "sample_mean = random_sample['Installs'].apply(installs_to_int).mean()\n",
    "sample_std = random_sample['Installs'].apply(installs_to_int).std()\n",
    "print(\"%35s\" % (f\"True Mean: {true_mean:.2f}\"))\n",
    "print(\"%35s\" % (f\"Random Sample Mean: {sample_mean:.2f}\"))"
   ]
  },
  {
   "cell_type": "markdown",
   "metadata": {},
   "source": [
    "### Hypothesis Testing\n",
    "- The Population Variance is known and sample size > 30 so we use the z-test\n",
    "- Hypothesis: \n",
    "u0: true_mean = sample_mean\n",
    "u1: true_mean != sample_mean"
   ]
  },
  {
   "cell_type": "code",
   "execution_count": 22,
   "metadata": {},
   "outputs": [
    {
     "name": "stdout",
     "output_type": "stream",
     "text": [
      "Z value:  0.008488641549660683\n",
      "p value:  0.49661356265215617\n",
      "There isn't enough evidence to reject the null hypothesis\n"
     ]
    }
   ],
   "source": [
    "alpha = 0.05\n",
    "z = (sample_mean - true_mean)/true_std\n",
    "p_val = 1 - st.norm.cdf(z)\n",
    "print(\"Z value: \", z)\n",
    "print(\"p value: \", p_val)\n",
    "if p_val <= alpha/2:\n",
    "    print(\"There is enough evidence to reject the Null hypothesis\")\n",
    "else:\n",
    "    print(\"There isn't enough evidence to reject the null hypothesis\")"
   ]
  },
  {
   "cell_type": "code",
   "execution_count": 23,
   "metadata": {},
   "outputs": [
    {
     "name": "stdout",
     "output_type": "stream",
     "text": [
      "The test power is:  0.02359268951094362\n"
     ]
    }
   ],
   "source": [
    "z_critic = st.norm(true_mean, true_std).ppf(1 - alpha/2)\n",
    "# dist = st.norm(sample_mean, sample_std)\n",
    "power = 1 - st.norm(sample_mean, sample_std).cdf(z_critic)\n",
    "print(\"The test power is: \", power)"
   ]
  },
  {
   "cell_type": "code",
   "execution_count": 36,
   "metadata": {},
   "outputs": [
    {
     "name": "stdout",
     "output_type": "stream",
     "text": [
      "Sample Size needed to detect a change of 2 in the means with power of 0.9:  15477756863045902.0\n"
     ]
    }
   ],
   "source": [
    "import statsmodels.stats.power as pw\n",
    "\n",
    "sample_size = pw.normal_sample_size_one_tail(diff=2, alpha=alpha, power=0.9, std_null=true_std)\n",
    "print(f\"Sample Size needed to detect a change of 2 in the means with power of 0.9:  {sample_size:.1f}\")"
   ]
  },
  {
   "cell_type": "markdown",
   "metadata": {},
   "source": [
    "# C5: Bootstrapping"
   ]
  },
  {
   "cell_type": "code",
   "execution_count": 68,
   "metadata": {},
   "outputs": [
    {
     "data": {
      "image/png": "[encoded data removed]",
      "text/plain": [
       "<Figure size 1600x500 with 2 Axes>"
      ]
     },
     "metadata": {},
     "output_type": "display_data"
    }
   ],
   "source": [
    "data = dataset['Installs'].apply(installs_to_int)\n",
    "def bootstrapp(data, resampling=10000):\n",
    "    data = np.array(data)\n",
    "    bootstrapped_data = np.random.choice(data, size=resampling, replace=True)\n",
    "    return bootstrapped_data\n",
    "\n",
    "bootstrapped = bootstrapp(data, resampling=5000)\n",
    "bins = np.logspace(0, 10, 25)\n",
    "\n",
    "\n",
    "fig, axs = plt.subplots(ncols=2, figsize=(16, 5))\n",
    "\n",
    "axs[0].set_xscale(\"log\")\n",
    "axs[1].set_xscale(\"log\")\n",
    "\n",
    "axs[1].set_xticks([1, 10, 100, 1000, 10**4, 10**5, 10**6, 10**7, 10**8, 10**9, 10**10], ['1', '10', '100', '1K', '10K', '100K', '1M', '10M', '100M', '1B', '10B'])\n",
    "axs[0].set_xticks([1, 10, 100, 1000, 10**4, 10**5, 10**6, 10**7, 10**8, 10**9, 10**10], ['1', '10', '100', '1K', '10K', '100K', '1M', '10M', '100M', '1B', '10B'])\n",
    "\n",
    "axs[0].hist(bootstrapped, bins=bins, rwidth=0.7, color=\"#0E4C92\")\n",
    "axs[1].hist(installs, bins=bins, rwidth=0.7, color=\"red\")\n",
    "\n",
    "axs[0].set_title(\"Bootstrapped Distribution\")\n",
    "axs[1].set_title(\"Population Distribution\")\n",
    "\n",
    "\n",
    "plt.show()"
   ]
  },
  {
   "cell_type": "markdown",
   "metadata": {},
   "source": [
    "# C6: Proposed Models\n",
    "- Decision Tree\n",
    "- Multinomial Regression"
   ]
  }
 ],
 "metadata": {
  "kernelspec": {
   "display_name": "Python 3",
   "language": "python",
   "name": "python3"
  },
  "language_info": {
   "codemirror_mode": {
    "name": "ipython",
    "version": 3
   },
   "file_extension": ".py",
   "mimetype": "text/x-python",
   "name": "python",
   "nbconvert_exporter": "python",
   "pygments_lexer": "ipython3",
   "version": "3.10.0"
  }
 },
 "nbformat": 4,
 "nbformat_minor": 2
}
